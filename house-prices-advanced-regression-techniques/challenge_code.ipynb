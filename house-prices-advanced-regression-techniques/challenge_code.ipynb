{
 "cells": [
  {
   "cell_type": "code",
   "execution_count": null,
   "metadata": {},
   "outputs": [],
   "source": [
    "print('X')"
   ]
  }
 ],
 "metadata": {
  "kernelspec": {
   "display_name": "simple-ml-demo",
   "language": "python",
   "name": "python3"
  },
  "language_info": {
   "name": "python",
   "version": "3.1.-1"
  }
 },
 "nbformat": 4,
 "nbformat_minor": 2
}
